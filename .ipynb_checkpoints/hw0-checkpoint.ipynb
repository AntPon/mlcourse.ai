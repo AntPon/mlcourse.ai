{
 "cells": [
  {
   "cell_type": "code",
   "execution_count": 1,
   "metadata": {},
   "outputs": [],
   "source": [
    "import numpy as np\n",
    "import pandas as pd\n",
    "import matplotlib.pyplot as plt"
   ]
  },
  {
   "cell_type": "code",
   "execution_count": 307,
   "metadata": {},
   "outputs": [],
   "source": [
    "dtype = {'DayOfWeek': np.uint8, 'DayofMonth': np.uint8, 'Month': np.uint8 , \n",
    "         'Cancelled': np.uint8, 'Year': np.uint16, 'FlightNum': np.uint16 , \n",
    "         'Distance': np.uint16, 'UniqueCarrier': str, 'CancellationCode': str, \n",
    "         'Origin': str, 'Dest': str, 'ArrDelay': np.float16, \n",
    "         'DepDelay': np.float16, 'CarrierDelay': np.float16, \n",
    "         'WeatherDelay': np.float16, 'NASDelay': np.float16, \n",
    "         'SecurityDelay': np.float16, 'LateAircraftDelay': np.float16, \n",
    "         'DepTime': np.float16}"
   ]
  },
  {
   "cell_type": "code",
   "execution_count": 308,
   "metadata": {},
   "outputs": [
    {
     "name": "stdout",
     "output_type": "stream",
     "text": [
      "CPU times: user 48.3 s, sys: 756 ms, total: 49.1 s\n",
      "Wall time: 48.1 s\n"
     ]
    }
   ],
   "source": [
    "%%time\n",
    "path = '../data/hw0.csv.bz2'\n",
    "flights_df = pd.read_csv(path, encoding = 'ISO-8859-1', usecols=dtype.keys(), dtype=dtype)"
   ]
  },
  {
   "cell_type": "code",
   "execution_count": 93,
   "metadata": {},
   "outputs": [
    {
     "data": {
      "text/plain": [
       "(                       count         mean          std     min     25%  \\\n",
       " Year               7009728.0  2008.000000     0.000000  2008.0  2008.0   \n",
       " Month              7009728.0     6.375130     3.406737     1.0     3.0   \n",
       " DayofMonth         7009728.0    15.728015     8.797068     1.0     8.0   \n",
       " DayOfWeek          7009728.0     3.924182     1.988259     1.0     2.0   \n",
       " DepTime            6873482.0          NaN          NaN     1.0   928.0   \n",
       " FlightNum          7009728.0  2224.200105  1961.715999     1.0   622.0   \n",
       " ArrDelay           6855029.0          NaN          NaN  -519.0   -10.0   \n",
       " DepDelay           6873482.0          NaN          NaN  -534.0    -4.0   \n",
       " Distance           7009728.0   726.387029   562.101803    11.0   325.0   \n",
       " Cancelled          7009728.0     0.019606     0.138643     0.0     0.0   \n",
       " CarrierDelay       1524735.0          NaN          NaN     0.0     0.0   \n",
       " WeatherDelay       1524735.0          NaN          NaN     0.0     0.0   \n",
       " NASDelay           1524735.0          NaN          NaN     0.0     0.0   \n",
       " SecurityDelay      1524735.0          NaN          NaN     0.0     0.0   \n",
       " LateAircraftDelay  1524735.0          NaN          NaN     0.0     0.0   \n",
       " DepHour            6873482.0          NaN     0.000000     0.0     9.0   \n",
       " \n",
       "                       50%     75%     max  \n",
       " Year               2008.0  2008.0  2008.0  \n",
       " Month                 6.0     9.0    12.0  \n",
       " DayofMonth           16.0    23.0    31.0  \n",
       " DayOfWeek             4.0     6.0     7.0  \n",
       " DepTime            1325.0  1728.0  2400.0  \n",
       " FlightNum          1571.0  3518.0  9743.0  \n",
       " ArrDelay             -2.0    12.0  2460.0  \n",
       " DepDelay             -1.0     8.0  2468.0  \n",
       " Distance            581.0   954.0  4962.0  \n",
       " Cancelled             0.0     0.0     1.0  \n",
       " CarrierDelay          0.0    16.0  2436.0  \n",
       " WeatherDelay          0.0     0.0  1352.0  \n",
       " NASDelay              6.0    21.0  1357.0  \n",
       " SecurityDelay         0.0     0.0   392.0  \n",
       " LateAircraftDelay     0.0    26.0  1316.0  \n",
       " DepHour              13.0    17.0    23.0  , (7009728, 20))"
      ]
     },
     "execution_count": 93,
     "metadata": {},
     "output_type": "execute_result"
    }
   ],
   "source": [
    "flights_df.describe().T, flights_df.shape"
   ]
  },
  {
   "cell_type": "code",
   "execution_count": 38,
   "metadata": {},
   "outputs": [
    {
     "data": {
      "text/plain": [
       "20"
      ]
     },
     "execution_count": 38,
     "metadata": {},
     "output_type": "execute_result"
    }
   ],
   "source": [
    "# #1\n",
    "\n",
    "carriers = flights_df['UniqueCarrier'].unique().tolist()\n",
    "len(carriers)\n",
    "\n",
    "# Answer: 20"
   ]
  },
  {
   "cell_type": "code",
   "execution_count": 39,
   "metadata": {},
   "outputs": [
    {
     "data": {
      "text/plain": [
       "(6872294, 137434, 6734860)"
      ]
     },
     "execution_count": 39,
     "metadata": {},
     "output_type": "execute_result"
    }
   ],
   "source": [
    "# #2\n",
    "\n",
    "completed = np.sum(flights_df['Cancelled'] == 0)\n",
    "cancelled = np.sum(flights_df['Cancelled'] == 1)\n",
    "completed, cancelled, completed-cancelled \n",
    "\n",
    "# Answer: Completed overweights cancelled by 6734860 flights"
   ]
  },
  {
   "cell_type": "code",
   "execution_count": 40,
   "metadata": {},
   "outputs": [
    {
     "data": {
      "text/plain": [
       "(         Year  Month  DayofMonth  DayOfWeek  DepTime UniqueCarrier  FlightNum  \\\n",
       " 1018798  2008      2           3          7   1117.0            NW        808   \n",
       " \n",
       "          ArrDelay  DepDelay Origin Dest  Distance  Cancelled CancellationCode  \\\n",
       " 1018798    2460.0    2456.0    HNL  MSP      3972          0              NaN   \n",
       " \n",
       "          CarrierDelay  WeatherDelay  NASDelay  SecurityDelay  \\\n",
       " 1018798        1455.0           0.0       4.0            0.0   \n",
       " \n",
       "          LateAircraftDelay  \n",
       " 1018798             1002.0  ,\n",
       "          Year  Month  DayofMonth  DayOfWeek  DepTime UniqueCarrier  FlightNum  \\\n",
       " 2235378  2008      4          10          4    724.0            NW       1699   \n",
       " \n",
       "          ArrDelay  DepDelay Origin Dest  Distance  Cancelled CancellationCode  \\\n",
       " 2235378    2452.0    2468.0    CLT  MSP       930          0              NaN   \n",
       " \n",
       "          CarrierDelay  WeatherDelay  NASDelay  SecurityDelay  \\\n",
       " 2235378        2436.0           0.0       0.0            0.0   \n",
       " \n",
       "          LateAircraftDelay  \n",
       " 2235378               17.0  )"
      ]
     },
     "execution_count": 40,
     "metadata": {},
     "output_type": "execute_result"
    }
   ],
   "source": [
    "# #3\n",
    "\n",
    "longest_arr_delay = flights_df.loc[flights_df['ArrDelay'] == flights_df['ArrDelay'].max()]\n",
    "longest_dep_delay = flights_df.loc[flights_df['DepDelay'] == flights_df['DepDelay'].max()]\n",
    "\n",
    "longest_arr_delay, longest_dep_delay\n",
    "\n",
    "# Answer: no"
   ]
  },
  {
   "cell_type": "code",
   "execution_count": 163,
   "metadata": {},
   "outputs": [
    {
     "data": {
      "text/plain": [
       "UniqueCarrier\n",
       "9E     7100\n",
       "AA    17440\n",
       "AQ       42\n",
       "AS     2139\n",
       "B6     3205\n",
       "CO     3702\n",
       "DL     6813\n",
       "EV     5026\n",
       "F9      303\n",
       "FL     2236\n",
       "HA      570\n",
       "MQ    18331\n",
       "NW     2906\n",
       "OH     6462\n",
       "OO    12436\n",
       "UA    10541\n",
       "US     6582\n",
       "WN    12389\n",
       "XE     9992\n",
       "YV     9219\n",
       "dtype: int64"
      ]
     },
     "execution_count": 163,
     "metadata": {},
     "output_type": "execute_result"
    }
   ],
   "source": [
    "# #4\n",
    "\n",
    "cancelled_flights = flights_df.loc[flights_df['Cancelled'] == 1]\n",
    "\n",
    "flights_df.shape, cancelled_flights.shape\n",
    "\n",
    "cancelled_flights.groupby('UniqueCarrier').size()    \n",
    "    \n",
    "# Answer: MQ 18331"
   ]
  },
  {
   "cell_type": "code",
   "execution_count": 332,
   "metadata": {},
   "outputs": [],
   "source": [
    "flights_df['DepHour'] = flights_df['DepTime'] // 100\n",
    "flights_df['DepHour'].replace(to_replace=24, value=0, inplace=True)"
   ]
  },
  {
   "cell_type": "code",
   "execution_count": 334,
   "metadata": {},
   "outputs": [
    {
     "data": {
      "text/plain": [
       "array([[<matplotlib.axes._subplots.AxesSubplot object at 0x7f94a39e6518>]],\n",
       "      dtype=object)"
      ]
     },
     "execution_count": 334,
     "metadata": {},
     "output_type": "execute_result"
    },
    {
     "data": {
      "image/png": "[encoded data removed]",
      "text/plain": [
       "<Figure size 432x288 with 1 Axes>"
      ]
     },
     "metadata": {
      "needs_background": "light"
     },
     "output_type": "display_data"
    },
    {
     "data": {
      "image/png": "[encoded data removed]",
      "text/plain": [
       "<Figure size 432x288 with 1 Axes>"
      ]
     },
     "metadata": {
      "needs_background": "light"
     },
     "output_type": "display_data"
    }
   ],
   "source": [
    "flights_df.groupby('DepHour').size().plot(kind='bar');\n",
    "flights_df.hist('DepHour', bins=24)"
   ]
  },
  {
   "cell_type": "code",
   "execution_count": 335,
   "metadata": {},
   "outputs": [
    {
     "name": "stdout",
     "output_type": "stream",
     "text": [
      "6873482 7009728\n",
      "DepHour\n",
      "0.0     0.002963\n",
      "1.0     0.000853\n",
      "2.0     0.000269\n",
      "3.0     0.000121\n",
      "4.0     0.000493\n",
      "5.0     0.021556\n",
      "6.0     0.064994\n",
      "7.0     0.063534\n",
      "8.0     0.065356\n",
      "9.0     0.063265\n",
      "10.0    0.062772\n",
      "11.0    0.064698\n",
      "12.0    0.061723\n",
      "13.0    0.063420\n",
      "14.0    0.060650\n",
      "15.0    0.059813\n",
      "16.0    0.063144\n",
      "17.0    0.062921\n",
      "18.0    0.058309\n",
      "19.0    0.056345\n",
      "20.0    0.041608\n",
      "21.0    0.037077\n",
      "22.0    0.017408\n",
      "23.0    0.006707\n",
      "dtype: float64 8\n"
     ]
    }
   ],
   "source": [
    "# #5\n",
    "\n",
    "flights_with_dephour = np.sum(flights_df.groupby('DepHour').size().values.tolist())\n",
    "print(flights_with_dephour, flights_df.shape[0])\n",
    "print((flights_df.groupby('DepHour').size() / flights_with_dephour), (flights_df.groupby('DepHour').size() / flights_with_dephour).values.argmax())\n",
    "\n",
    "# Answer: 8 am"
   ]
  },
  {
   "cell_type": "code",
   "execution_count": 175,
   "metadata": {},
   "outputs": [
    {
     "name": "stdout",
     "output_type": "stream",
     "text": [
      "DepHour\n",
      "13.0    0.000108\n",
      "12.0    0.000125\n",
      "9.0     0.000129\n",
      "10.0    0.000132\n",
      "11.0    0.000133\n",
      "14.0    0.000137\n",
      "5.0     0.000162\n",
      "18.0    0.000165\n",
      "16.0    0.000168\n",
      "17.0    0.000169\n",
      "8.0     0.000176\n",
      "15.0    0.000178\n",
      "20.0    0.000178\n",
      "6.0     0.000179\n",
      "7.0     0.000190\n",
      "19.0    0.000209\n",
      "4.0     0.000295\n",
      "21.0    0.000322\n",
      "0.0     0.000344\n",
      "22.0    0.000476\n",
      "23.0    0.000521\n",
      "2.0     0.000540\n",
      "1.0     0.000682\n",
      "3.0          NaN\n",
      "dtype: float64\n"
     ]
    }
   ],
   "source": [
    "# #6\n",
    "\n",
    "cancels_percentage_per_hour = flights_df.loc[flights_df['Cancelled'] == 1].groupby('DepHour').size() / flights_df.groupby('DepHour').size()\n",
    "# cancels_percentage_per_hour[3.0] = 0\n",
    "print(cancels_percentage_per_hour.sort_values(ascending=True))\n",
    "\n",
    "# Answer: 3 am\n",
    "# Answer for #7: Is there any hour that didn't have any cancelled flights at all? Yes - 3 am"
   ]
  },
  {
   "cell_type": "code",
   "execution_count": 172,
   "metadata": {},
   "outputs": [
    {
     "data": {
      "text/plain": [
       "DepHour\n",
       "8.0     449145\n",
       "6.0     446657\n",
       "11.0    444643\n",
       "7.0     436617\n",
       "13.0    435870\n",
       "9.0     434794\n",
       "16.0    433944\n",
       "17.0    432415\n",
       "10.0    431403\n",
       "12.0    424196\n",
       "14.0    416818\n",
       "15.0    411053\n",
       "18.0    400718\n",
       "19.0    387207\n",
       "20.0    285940\n",
       "21.0    254768\n",
       "5.0     148143\n",
       "22.0    119594\n",
       "23.0     46079\n",
       "0.0      20361\n",
       "1.0       5857\n",
       "4.0       3389\n",
       "2.0       1850\n",
       "3.0        833\n",
       "dtype: int64"
      ]
     },
     "execution_count": 172,
     "metadata": {},
     "output_type": "execute_result"
    }
   ],
   "source": [
    "# #8\n",
    "\n",
    "flights_df.loc[flights_df['Cancelled'] == 0].groupby('DepHour').size().sort_values(ascending=False)#, flights_df.loc[flights_df['Cancelled'] == 0].groupby('DepHour').size().values.argmax()\n",
    "\n",
    "# Answer: the busiest hour (as excepted) 8 am"
   ]
  },
  {
   "cell_type": "code",
   "execution_count": 155,
   "metadata": {},
   "outputs": [
    {
     "data": {
      "text/plain": [
       "((3641661, 20), DepHour\n",
       " 0.0       5741\n",
       " 1.0       1101\n",
       " 2.0        499\n",
       " 3.0        399\n",
       " 4.0       3107\n",
       " 5.0     137447\n",
       " 6.0     316527\n",
       " 7.0     296237\n",
       " 8.0     289062\n",
       " 9.0     258571\n",
       " 10.0    242340\n",
       " 11.0    239397\n",
       " 12.0    221688\n",
       " 13.0    216606\n",
       " 14.0    201843\n",
       " 15.0    188358\n",
       " 16.0    206971\n",
       " 17.0    197982\n",
       " 18.0    182137\n",
       " 19.0    167955\n",
       " 20.0    110549\n",
       " 21.0    102158\n",
       " 22.0     41417\n",
       " 23.0     13569\n",
       " dtype: int64, array([[<matplotlib.axes._subplots.AxesSubplot object at 0x7f94a1a686a0>]],\n",
       "       dtype=object))"
      ]
     },
     "execution_count": 155,
     "metadata": {},
     "output_type": "execute_result"
    },
    {
     "data": {
      "image/png": "[encoded data removed]",
      "text/plain": [
       "<Figure size 432x288 with 1 Axes>"
      ]
     },
     "metadata": {
      "needs_background": "light"
     },
     "output_type": "display_data"
    }
   ],
   "source": [
    "# #9\n",
    "\n",
    "earlier_flights = flights_df.loc[flights_df['DepDelay'] < 0]\n",
    "earlier_flights = earlier_flights.loc[earlier_flights['Cancelled'] == 0]\n",
    "earlier_flights.shape, earlier_flights.groupby('DepHour').size(), earlier_flights.hist('DepHour')\n",
    "\n",
    "# Answer: 5-6 am"
   ]
  },
  {
   "cell_type": "code",
   "execution_count": 171,
   "metadata": {},
   "outputs": [
    {
     "data": {
      "text/plain": [
       "((472362, 20), DepHour\n",
       " 10.0    33063\n",
       " 9.0     32596\n",
       " 11.0    31863\n",
       " 13.0    31295\n",
       " 16.0    31276\n",
       " 6.0     30982\n",
       " 15.0    30904\n",
       " 14.0    30149\n",
       " 12.0    30043\n",
       " 7.0     29840\n",
       " 18.0    29362\n",
       " 17.0    28864\n",
       " 8.0     28757\n",
       " 19.0    25493\n",
       " 20.0    18664\n",
       " 5.0     12732\n",
       " 21.0    12086\n",
       " 22.0     3471\n",
       " 23.0      741\n",
       " 0.0       163\n",
       " 1.0        14\n",
       " 2.0         4\n",
       " dtype: int64, array([[<matplotlib.axes._subplots.AxesSubplot object at 0x7f949d6dfef0>]],\n",
       "       dtype=object))"
      ]
     },
     "execution_count": 171,
     "metadata": {},
     "output_type": "execute_result"
    },
    {
     "data": {
      "image/png": "[encoded data removed]",
      "text/plain": [
       "<Figure size 432x288 with 1 Axes>"
      ]
     },
     "metadata": {
      "needs_background": "light"
     },
     "output_type": "display_data"
    }
   ],
   "source": [
    "# #10\n",
    "\n",
    "MQ_flights = flights_df.loc[flights_df['UniqueCarrier'] == 'MQ']\n",
    "MQ_flights = MQ_flights.loc[MQ_flights['Cancelled'] == 0]\n",
    "MQ_flights.shape, MQ_flights.groupby('DepHour').size().sort_values(ascending=False), MQ_flights.hist('DepHour')\n",
    "\n",
    "# Answer: at 10 am"
   ]
  },
  {
   "cell_type": "code",
   "execution_count": 176,
   "metadata": {},
   "outputs": [
    {
     "data": {
      "text/plain": [
       "UniqueCarrier\n",
       "EV    275549\n",
       "FL    259448\n",
       "9E    255108\n",
       "YV    245711\n",
       "B6    192886\n",
       "OH    191145\n",
       "AS    148963\n",
       "F9     95459\n",
       "HA     61256\n",
       "AQ      7758\n",
       "dtype: int64"
      ]
     },
     "execution_count": 176,
     "metadata": {},
     "output_type": "execute_result"
    }
   ],
   "source": [
    "# #11\n",
    "\n",
    "completed_flights = flights_df.loc[flights_df['Cancelled'] == 0]\n",
    "groups = completed_flights.groupby('UniqueCarrier').size().sort_values(ascending=False)\n",
    "groups[10:]\n",
    "\n",
    "# Answer: EV"
   ]
  },
  {
   "cell_type": "code",
   "execution_count": 179,
   "metadata": {},
   "outputs": [
    {
     "data": {
      "text/plain": [
       "CancellationCode\n",
       "B    54904\n",
       "A    54330\n",
       "C    28188\n",
       "D       12\n",
       "dtype: int64"
      ]
     },
     "execution_count": 179,
     "metadata": {},
     "output_type": "execute_result"
    }
   ],
   "source": [
    "# #12\n",
    "\n",
    "cancelled_flights.groupby('CancellationCode').size().sort_values(ascending=False)\n",
    "\n",
    "# Answer: Weather"
   ]
  },
  {
   "cell_type": "code",
   "execution_count": 192,
   "metadata": {},
   "outputs": [
    {
     "name": "stdout",
     "output_type": "stream",
     "text": [
      "2299\n",
      "6591\n",
      "13788\n",
      "2264\n"
     ]
    }
   ],
   "source": [
    "# #13\n",
    "\n",
    "flights = pd.crosstab(flights_df.Origin, flights_df.Dest)\n",
    "\n",
    "print(flights.loc['JFK', 'IAD'])\n",
    "print(flights.loc['JFK', 'SFO'])\n",
    "print(flights.loc['SFO', 'LAX'])\n",
    "print(flights.loc['SJC', 'DFW'])\n",
    "\n",
    "# Answer: SFO -> LAX"
   ]
  },
  {
   "cell_type": "code",
   "execution_count": 327,
   "metadata": {},
   "outputs": [
    {
     "name": "stdout",
     "output_type": "stream",
     "text": [
      "Origin  Dest\n",
      "LAX     SFO     6253\n",
      "DAL     HOU     5742\n",
      "SFO     LAX     5322\n",
      "ORD     LGA     5311\n",
      "HOU     DAL     5288\n",
      "dtype: int64\n"
     ]
    }
   ],
   "source": [
    "# #14\n",
    "\n",
    "delayed_flights = flights_df.loc[flights_df['DepDelay'] > 0]\n",
    "routes_delayed_flights = delayed_flights.groupby(['Origin', 'Dest']).size().sort_values(ascending=False)[:5]\n",
    "print(routes_delayed_flights)"
   ]
  },
  {
   "cell_type": "code",
   "execution_count": 328,
   "metadata": {},
   "outputs": [
    {
     "name": "stdout",
     "output_type": "stream",
     "text": [
      "603\n"
     ]
    }
   ],
   "source": [
    "count = flights_df[(flights_df['Origin'] == 'LAX') & (flights_df['Dest'] == 'SFO') & (flights_df['CancellationCode'] == 'B')].shape[0] + \\\n",
    "        flights_df[(flights_df['Origin'] == 'DAL') & (flights_df['Dest'] == 'HOU') & (flights_df['CancellationCode'] == 'B')].shape[0] + \\\n",
    "        flights_df[(flights_df['Origin'] == 'SFO') & (flights_df['Dest'] == 'LAX') & (flights_df['CancellationCode'] == 'B')].shape[0] + \\\n",
    "        flights_df[(flights_df['Origin'] == 'ORD') & (flights_df['Dest'] == 'LGA') & (flights_df['CancellationCode'] == 'B')].shape[0] + \\\n",
    "        flights_df[(flights_df['Origin'] == 'HOU') & (flights_df['Dest'] == 'DAL') & (flights_df['CancellationCode'] == 'B')].shape[0]\n",
    "\n",
    "print(count)"
   ]
  },
  {
   "cell_type": "code",
   "execution_count": 338,
   "metadata": {},
   "outputs": [
    {
     "data": {
      "text/plain": [
       "array([[<matplotlib.axes._subplots.AxesSubplot object at 0x7f949e7bb898>]],\n",
       "      dtype=object)"
      ]
     },
     "execution_count": 338,
     "metadata": {},
     "output_type": "execute_result"
    },
    {
     "data": {
      "image/png": "[encoded data removed]",
      "text/plain": [
       "<Figure size 432x288 with 1 Axes>"
      ]
     },
     "metadata": {
      "needs_background": "light"
     },
     "output_type": "display_data"
    }
   ],
   "source": [
    "# #15\n",
    "\n",
    "flights_df.hist('DepHour', bins=24)\n",
    "\n",
    "# Answer: 3rd statement is right"
   ]
  },
  {
   "cell_type": "code",
   "execution_count": 348,
   "metadata": {},
   "outputs": [
    {
     "name": "stdout",
     "output_type": "stream",
     "text": [
      "[[<matplotlib.axes._subplots.AxesSubplot object at 0x7f949e557710>]]\n",
      "[[<matplotlib.axes._subplots.AxesSubplot object at 0x7f949e5576d8>]]\n",
      "Month\n",
      "1     605765\n",
      "2     569236\n",
      "3     616090\n",
      "4     598126\n",
      "5     606293\n",
      "6     608665\n",
      "7     627931\n",
      "8     612279\n",
      "9     540908\n",
      "10    556205\n",
      "11    523272\n",
      "12    544958\n",
      "dtype: int64\n",
      "1719959 1848875\n"
     ]
    },
    {
     "data": {
      "image/png": "[encoded data removed]",
      "text/plain": [
       "<Figure size 432x288 with 1 Axes>"
      ]
     },
     "metadata": {
      "needs_background": "light"
     },
     "output_type": "display_data"
    },
    {
     "data": {
      "image/png": "[encoded data removed]",
      "text/plain": [
       "<Figure size 432x288 with 1 Axes>"
      ]
     },
     "metadata": {
      "needs_background": "light"
     },
     "output_type": "display_data"
    }
   ],
   "source": [
    "# #16\n",
    "\n",
    "print(flights_df.hist('DayOfWeek', bins=7))\n",
    "print(flights_df.hist('Month', bins=12))\n",
    "print(flights_df.groupby('Month').size())\n",
    "\n",
    "winter_flights = flights_df.groupby('Month').size()[12] + flights_df.groupby('Month').size()[1] + flights_df.groupby('Month').size()[2]\n",
    "summer_flights = flights_df.groupby('Month').size()[6] + flights_df.groupby('Month').size()[7] + flights_df.groupby('Month').size()[8]\n",
    "\n",
    "print(winter_flights, summer_flights)\n",
    "\n",
    "# Answers: 1, 3"
   ]
  },
  {
   "cell_type": "code",
   "execution_count": 351,
   "metadata": {},
   "outputs": [
    {
     "data": {
      "image/png": "[encoded data removed]",
      "text/plain": [
       "<Figure size 432x288 with 1 Axes>"
      ]
     },
     "metadata": {
      "needs_background": "light"
     },
     "output_type": "display_data"
    }
   ],
   "source": [
    "# #17\n",
    "\n",
    "plt.imshow(pd.crosstab(flights_df.Month, flights_df.CancellationCode),\n",
    "           cmap='seismic', interpolation='none');"
   ]
  },
  {
   "cell_type": "code",
   "execution_count": 352,
   "metadata": {},
   "outputs": [
    {
     "data": {
      "text/html": [
       "<div>\n",
       "<style scoped>\n",
       "    .dataframe tbody tr th:only-of-type {\n",
       "        vertical-align: middle;\n",
       "    }\n",
       "\n",
       "    .dataframe tbody tr th {\n",
       "        vertical-align: top;\n",
       "    }\n",
       "\n",
       "    .dataframe thead th {\n",
       "        text-align: right;\n",
       "    }\n",
       "</style>\n",
       "<table border=\"1\" class=\"dataframe\">\n",
       "  <thead>\n",
       "    <tr style=\"text-align: right;\">\n",
       "      <th>CancellationCode</th>\n",
       "      <th>A</th>\n",
       "      <th>B</th>\n",
       "      <th>C</th>\n",
       "      <th>D</th>\n",
       "    </tr>\n",
       "    <tr>\n",
       "      <th>Month</th>\n",
       "      <th></th>\n",
       "      <th></th>\n",
       "      <th></th>\n",
       "      <th></th>\n",
       "    </tr>\n",
       "  </thead>\n",
       "  <tbody>\n",
       "    <tr>\n",
       "      <th>1</th>\n",
       "      <td>6635</td>\n",
       "      <td>6711</td>\n",
       "      <td>3962</td>\n",
       "      <td>0</td>\n",
       "    </tr>\n",
       "    <tr>\n",
       "      <th>2</th>\n",
       "      <td>6090</td>\n",
       "      <td>10034</td>\n",
       "      <td>4470</td>\n",
       "      <td>2</td>\n",
       "    </tr>\n",
       "    <tr>\n",
       "      <th>3</th>\n",
       "      <td>6038</td>\n",
       "      <td>7520</td>\n",
       "      <td>2621</td>\n",
       "      <td>4</td>\n",
       "    </tr>\n",
       "    <tr>\n",
       "      <th>4</th>\n",
       "      <td>7312</td>\n",
       "      <td>1479</td>\n",
       "      <td>1564</td>\n",
       "      <td>0</td>\n",
       "    </tr>\n",
       "    <tr>\n",
       "      <th>5</th>\n",
       "      <td>3157</td>\n",
       "      <td>1461</td>\n",
       "      <td>1608</td>\n",
       "      <td>3</td>\n",
       "    </tr>\n",
       "    <tr>\n",
       "      <th>6</th>\n",
       "      <td>4251</td>\n",
       "      <td>3448</td>\n",
       "      <td>3232</td>\n",
       "      <td>0</td>\n",
       "    </tr>\n",
       "    <tr>\n",
       "      <th>7</th>\n",
       "      <td>5292</td>\n",
       "      <td>2612</td>\n",
       "      <td>2694</td>\n",
       "      <td>0</td>\n",
       "    </tr>\n",
       "    <tr>\n",
       "      <th>8</th>\n",
       "      <td>3852</td>\n",
       "      <td>3582</td>\n",
       "      <td>2401</td>\n",
       "      <td>0</td>\n",
       "    </tr>\n",
       "    <tr>\n",
       "      <th>9</th>\n",
       "      <td>2246</td>\n",
       "      <td>6478</td>\n",
       "      <td>1188</td>\n",
       "      <td>1</td>\n",
       "    </tr>\n",
       "    <tr>\n",
       "      <th>10</th>\n",
       "      <td>2097</td>\n",
       "      <td>600</td>\n",
       "      <td>552</td>\n",
       "      <td>0</td>\n",
       "    </tr>\n",
       "    <tr>\n",
       "      <th>11</th>\n",
       "      <td>2510</td>\n",
       "      <td>937</td>\n",
       "      <td>1009</td>\n",
       "      <td>2</td>\n",
       "    </tr>\n",
       "    <tr>\n",
       "      <th>12</th>\n",
       "      <td>4850</td>\n",
       "      <td>10042</td>\n",
       "      <td>2887</td>\n",
       "      <td>0</td>\n",
       "    </tr>\n",
       "  </tbody>\n",
       "</table>\n",
       "</div>"
      ],
      "text/plain": [
       "CancellationCode     A      B     C  D\n",
       "Month                                 \n",
       "1                 6635   6711  3962  0\n",
       "2                 6090  10034  4470  2\n",
       "3                 6038   7520  2621  4\n",
       "4                 7312   1479  1564  0\n",
       "5                 3157   1461  1608  3\n",
       "6                 4251   3448  3232  0\n",
       "7                 5292   2612  2694  0\n",
       "8                 3852   3582  2401  0\n",
       "9                 2246   6478  1188  1\n",
       "10                2097    600   552  0\n",
       "11                2510    937  1009  2\n",
       "12                4850  10042  2887  0"
      ]
     },
     "execution_count": 352,
     "metadata": {},
     "output_type": "execute_result"
    }
   ],
   "source": [
    "pd.crosstab(flights_df.Month, flights_df.CancellationCode)"
   ]
  },
  {
   "cell_type": "code",
   "execution_count": 353,
   "metadata": {},
   "outputs": [],
   "source": [
    "# Answers:\n",
    "# 1 +, 2 -, 3 +, 4 -"
   ]
  },
  {
   "cell_type": "code",
   "execution_count": 354,
   "metadata": {},
   "outputs": [],
   "source": [
    "# #18. Answer: April"
   ]
  },
  {
   "cell_type": "code",
   "execution_count": 360,
   "metadata": {},
   "outputs": [
    {
     "data": {
      "text/plain": [
       "UniqueCarrier\n",
       "AA    3696\n",
       "WN     533\n",
       "UA     494\n",
       "YV     454\n",
       "9E     391\n",
       "US     335\n",
       "OO     298\n",
       "MQ     283\n",
       "DL     226\n",
       "AS     135\n",
       "NW     122\n",
       "FL      81\n",
       "OH      76\n",
       "CO      50\n",
       "B6      43\n",
       "XE      30\n",
       "EV      29\n",
       "HA      29\n",
       "F9       7\n",
       "dtype: int64"
      ]
     },
     "execution_count": 360,
     "metadata": {},
     "output_type": "execute_result"
    }
   ],
   "source": [
    "# #19\n",
    "\n",
    "aprils_flights = flights_df[(flights_df.Month == 4) & (flights_df.Cancelled == 1) & (flights_df.CancellationCode == 'A')]\n",
    "aprils_flights.groupby('UniqueCarrier').size().sort_values(ascending=False)\n",
    "\n",
    "# Answer: AA"
   ]
  },
  {
   "cell_type": "code",
   "execution_count": 374,
   "metadata": {},
   "outputs": [
    {
     "data": {
      "text/html": [
       "<div>\n",
       "<style scoped>\n",
       "    .dataframe tbody tr th:only-of-type {\n",
       "        vertical-align: middle;\n",
       "    }\n",
       "\n",
       "    .dataframe tbody tr th {\n",
       "        vertical-align: top;\n",
       "    }\n",
       "\n",
       "    .dataframe thead th {\n",
       "        text-align: right;\n",
       "    }\n",
       "</style>\n",
       "<table border=\"1\" class=\"dataframe\">\n",
       "  <thead>\n",
       "    <tr style=\"text-align: right;\">\n",
       "      <th></th>\n",
       "      <th>DepDelay</th>\n",
       "      <th>ArrDelay</th>\n",
       "    </tr>\n",
       "    <tr>\n",
       "      <th>UniqueCarrier</th>\n",
       "      <th></th>\n",
       "      <th></th>\n",
       "    </tr>\n",
       "  </thead>\n",
       "  <tbody>\n",
       "    <tr>\n",
       "      <th>AQ</th>\n",
       "      <td>5.0</td>\n",
       "      <td>6.0</td>\n",
       "    </tr>\n",
       "    <tr>\n",
       "      <th>HA</th>\n",
       "      <td>7.0</td>\n",
       "      <td>9.0</td>\n",
       "    </tr>\n",
       "    <tr>\n",
       "      <th>OH</th>\n",
       "      <td>11.0</td>\n",
       "      <td>18.0</td>\n",
       "    </tr>\n",
       "    <tr>\n",
       "      <th>F9</th>\n",
       "      <td>12.0</td>\n",
       "      <td>14.0</td>\n",
       "    </tr>\n",
       "    <tr>\n",
       "      <th>WN</th>\n",
       "      <td>15.0</td>\n",
       "      <td>14.0</td>\n",
       "    </tr>\n",
       "    <tr>\n",
       "      <th>DL</th>\n",
       "      <td>15.0</td>\n",
       "      <td>19.0</td>\n",
       "    </tr>\n",
       "    <tr>\n",
       "      <th>AS</th>\n",
       "      <td>16.0</td>\n",
       "      <td>18.0</td>\n",
       "    </tr>\n",
       "    <tr>\n",
       "      <th>US</th>\n",
       "      <td>16.0</td>\n",
       "      <td>19.0</td>\n",
       "    </tr>\n",
       "    <tr>\n",
       "      <th>NW</th>\n",
       "      <td>16.0</td>\n",
       "      <td>22.0</td>\n",
       "    </tr>\n",
       "    <tr>\n",
       "      <th>CO</th>\n",
       "      <td>17.0</td>\n",
       "      <td>19.0</td>\n",
       "    </tr>\n",
       "    <tr>\n",
       "      <th>FL</th>\n",
       "      <td>17.0</td>\n",
       "      <td>20.0</td>\n",
       "    </tr>\n",
       "    <tr>\n",
       "      <th>OO</th>\n",
       "      <td>17.0</td>\n",
       "      <td>20.0</td>\n",
       "    </tr>\n",
       "    <tr>\n",
       "      <th>YV</th>\n",
       "      <td>18.0</td>\n",
       "      <td>20.0</td>\n",
       "    </tr>\n",
       "    <tr>\n",
       "      <th>9E</th>\n",
       "      <td>21.0</td>\n",
       "      <td>23.0</td>\n",
       "    </tr>\n",
       "    <tr>\n",
       "      <th>EV</th>\n",
       "      <td>21.0</td>\n",
       "      <td>23.0</td>\n",
       "    </tr>\n",
       "    <tr>\n",
       "      <th>MQ</th>\n",
       "      <td>21.0</td>\n",
       "      <td>23.0</td>\n",
       "    </tr>\n",
       "    <tr>\n",
       "      <th>XE</th>\n",
       "      <td>21.0</td>\n",
       "      <td>24.0</td>\n",
       "    </tr>\n",
       "    <tr>\n",
       "      <th>AA</th>\n",
       "      <td>22.0</td>\n",
       "      <td>25.0</td>\n",
       "    </tr>\n",
       "    <tr>\n",
       "      <th>UA</th>\n",
       "      <td>24.0</td>\n",
       "      <td>25.0</td>\n",
       "    </tr>\n",
       "    <tr>\n",
       "      <th>B6</th>\n",
       "      <td>28.0</td>\n",
       "      <td>31.0</td>\n",
       "    </tr>\n",
       "  </tbody>\n",
       "</table>\n",
       "</div>"
      ],
      "text/plain": [
       "               DepDelay  ArrDelay\n",
       "UniqueCarrier                    \n",
       "AQ                  5.0       6.0\n",
       "HA                  7.0       9.0\n",
       "OH                 11.0      18.0\n",
       "F9                 12.0      14.0\n",
       "WN                 15.0      14.0\n",
       "DL                 15.0      19.0\n",
       "AS                 16.0      18.0\n",
       "US                 16.0      19.0\n",
       "NW                 16.0      22.0\n",
       "CO                 17.0      19.0\n",
       "FL                 17.0      20.0\n",
       "OO                 17.0      20.0\n",
       "YV                 18.0      20.0\n",
       "9E                 21.0      23.0\n",
       "EV                 21.0      23.0\n",
       "MQ                 21.0      23.0\n",
       "XE                 21.0      24.0\n",
       "AA                 22.0      25.0\n",
       "UA                 24.0      25.0\n",
       "B6                 28.0      31.0"
      ]
     },
     "execution_count": 374,
     "metadata": {},
     "output_type": "execute_result"
    }
   ],
   "source": [
    "# #20\n",
    "\n",
    "# non_negative_flights = flights_df[(flights_df.DepDelay >= 0) & (flights_df.ArrDelay >= 0)]\n",
    "non_negative_flights.groupby('UniqueCarrier').agg({'DepDelay': np.median, 'ArrDelay': np.median}).sort_values(['DepDelay', 'ArrDelay'], ascending=True)\n",
    "\n",
    "# Answer: AQ"
   ]
  }
 ],
 "metadata": {
  "kernelspec": {
   "display_name": "Python 3",
   "language": "python",
   "name": "python3"
  },
  "language_info": {
   "codemirror_mode": {
    "name": "ipython",
    "version": 3
   },
   "file_extension": ".py",
   "mimetype": "text/x-python",
   "name": "python",
   "nbconvert_exporter": "python",
   "pygments_lexer": "ipython3",
   "version": "3.7.1"
  }
 },
 "nbformat": 4,
 "nbformat_minor": 2
}
