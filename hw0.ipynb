{
 "cells": [
  {
   "cell_type": "code",
   "execution_count": 1,
   "metadata": {},
   "outputs": [],
   "source": [
    "import numpy as np\n",
    "import pandas as pd\n",
    "import matplotlib.pyplot as plt"
   ]
  },
  {
   "cell_type": "code",
   "execution_count": 4,
   "metadata": {},
   "outputs": [],
   "source": [
    "dtype = {'DayOfWeek': np.uint8, 'DayofMonth': np.uint8, 'Month': np.uint8 , \n",
    "         'Cancelled': np.uint8, 'Year': np.uint16, 'FlightNum': np.uint16 , \n",
    "         'Distance': np.uint16, 'UniqueCarrier': str, 'CancellationCode': str, \n",
    "         'Origin': str, 'Dest': str, 'ArrDelay': np.float16, \n",
    "         'DepDelay': np.float16, 'CarrierDelay': np.float16, \n",
    "         'WeatherDelay': np.float16, 'NASDelay': np.float16, \n",
    "         'SecurityDelay': np.float16, 'LateAircraftDelay': np.float16, \n",
    "         'DepTime': np.float16}"
   ]
  },
  {
   "cell_type": "code",
   "execution_count": 72,
   "metadata": {},
   "outputs": [
    {
     "name": "stdout",
     "output_type": "stream",
     "text": [
      "CPU times: user 51.4 s, sys: 308 ms, total: 51.7 s\n",
      "Wall time: 50.8 s\n"
     ]
    }
   ],
   "source": [
    "%%time\n",
    "path = '../data/hw0.csv.bz2'\n",
    "flights_df = pd.read_csv(path, encoding = 'ISO-8859-1', usecols=dtype.keys(), dtype=dtype)"
   ]
  },
  {
   "cell_type": "code",
   "execution_count": 93,
   "metadata": {},
   "outputs": [
    {
     "data": {
      "text/plain": [
       "(                       count         mean          std     min     25%  \\\n",
       " Year               7009728.0  2008.000000     0.000000  2008.0  2008.0   \n",
       " Month              7009728.0     6.375130     3.406737     1.0     3.0   \n",
       " DayofMonth         7009728.0    15.728015     8.797068     1.0     8.0   \n",
       " DayOfWeek          7009728.0     3.924182     1.988259     1.0     2.0   \n",
       " DepTime            6873482.0          NaN          NaN     1.0   928.0   \n",
       " FlightNum          7009728.0  2224.200105  1961.715999     1.0   622.0   \n",
       " ArrDelay           6855029.0          NaN          NaN  -519.0   -10.0   \n",
       " DepDelay           6873482.0          NaN          NaN  -534.0    -4.0   \n",
       " Distance           7009728.0   726.387029   562.101803    11.0   325.0   \n",
       " Cancelled          7009728.0     0.019606     0.138643     0.0     0.0   \n",
       " CarrierDelay       1524735.0          NaN          NaN     0.0     0.0   \n",
       " WeatherDelay       1524735.0          NaN          NaN     0.0     0.0   \n",
       " NASDelay           1524735.0          NaN          NaN     0.0     0.0   \n",
       " SecurityDelay      1524735.0          NaN          NaN     0.0     0.0   \n",
       " LateAircraftDelay  1524735.0          NaN          NaN     0.0     0.0   \n",
       " DepHour            6873482.0          NaN     0.000000     0.0     9.0   \n",
       " \n",
       "                       50%     75%     max  \n",
       " Year               2008.0  2008.0  2008.0  \n",
       " Month                 6.0     9.0    12.0  \n",
       " DayofMonth           16.0    23.0    31.0  \n",
       " DayOfWeek             4.0     6.0     7.0  \n",
       " DepTime            1325.0  1728.0  2400.0  \n",
       " FlightNum          1571.0  3518.0  9743.0  \n",
       " ArrDelay             -2.0    12.0  2460.0  \n",
       " DepDelay             -1.0     8.0  2468.0  \n",
       " Distance            581.0   954.0  4962.0  \n",
       " Cancelled             0.0     0.0     1.0  \n",
       " CarrierDelay          0.0    16.0  2436.0  \n",
       " WeatherDelay          0.0     0.0  1352.0  \n",
       " NASDelay              6.0    21.0  1357.0  \n",
       " SecurityDelay         0.0     0.0   392.0  \n",
       " LateAircraftDelay     0.0    26.0  1316.0  \n",
       " DepHour              13.0    17.0    23.0  , (7009728, 20))"
      ]
     },
     "execution_count": 93,
     "metadata": {},
     "output_type": "execute_result"
    }
   ],
   "source": [
    "flights_df.describe().T, flights_df.shape"
   ]
  },
  {
   "cell_type": "code",
   "execution_count": 38,
   "metadata": {},
   "outputs": [
    {
     "data": {
      "text/plain": [
       "20"
      ]
     },
     "execution_count": 38,
     "metadata": {},
     "output_type": "execute_result"
    }
   ],
   "source": [
    "# #1\n",
    "\n",
    "carriers = flights_df['UniqueCarrier'].unique().tolist()\n",
    "len(carriers)\n",
    "\n",
    "# Answer: 20"
   ]
  },
  {
   "cell_type": "code",
   "execution_count": 39,
   "metadata": {},
   "outputs": [
    {
     "data": {
      "text/plain": [
       "(6872294, 137434, 6734860)"
      ]
     },
     "execution_count": 39,
     "metadata": {},
     "output_type": "execute_result"
    }
   ],
   "source": [
    "# #2\n",
    "\n",
    "completed = np.sum(flights_df['Cancelled'] == 0)\n",
    "cancelled = np.sum(flights_df['Cancelled'] == 1)\n",
    "completed, cancelled, completed-cancelled \n",
    "\n",
    "# Answer: Completed overweights cancelled by 6734860 flights"
   ]
  },
  {
   "cell_type": "code",
   "execution_count": 40,
   "metadata": {},
   "outputs": [
    {
     "data": {
      "text/plain": [
       "(         Year  Month  DayofMonth  DayOfWeek  DepTime UniqueCarrier  FlightNum  \\\n",
       " 1018798  2008      2           3          7   1117.0            NW        808   \n",
       " \n",
       "          ArrDelay  DepDelay Origin Dest  Distance  Cancelled CancellationCode  \\\n",
       " 1018798    2460.0    2456.0    HNL  MSP      3972          0              NaN   \n",
       " \n",
       "          CarrierDelay  WeatherDelay  NASDelay  SecurityDelay  \\\n",
       " 1018798        1455.0           0.0       4.0            0.0   \n",
       " \n",
       "          LateAircraftDelay  \n",
       " 1018798             1002.0  ,\n",
       "          Year  Month  DayofMonth  DayOfWeek  DepTime UniqueCarrier  FlightNum  \\\n",
       " 2235378  2008      4          10          4    724.0            NW       1699   \n",
       " \n",
       "          ArrDelay  DepDelay Origin Dest  Distance  Cancelled CancellationCode  \\\n",
       " 2235378    2452.0    2468.0    CLT  MSP       930          0              NaN   \n",
       " \n",
       "          CarrierDelay  WeatherDelay  NASDelay  SecurityDelay  \\\n",
       " 2235378        2436.0           0.0       0.0            0.0   \n",
       " \n",
       "          LateAircraftDelay  \n",
       " 2235378               17.0  )"
      ]
     },
     "execution_count": 40,
     "metadata": {},
     "output_type": "execute_result"
    }
   ],
   "source": [
    "# #3\n",
    "\n",
    "longest_arr_delay = flights_df.loc[flights_df['ArrDelay'] == flights_df['ArrDelay'].max()]\n",
    "longest_dep_delay = flights_df.loc[flights_df['DepDelay'] == flights_df['DepDelay'].max()]\n",
    "\n",
    "longest_arr_delay, longest_dep_delay\n",
    "\n",
    "# Answer: no"
   ]
  },
  {
   "cell_type": "code",
   "execution_count": 49,
   "metadata": {},
   "outputs": [
    {
     "name": "stdout",
     "output_type": "stream",
     "text": [
      "WN: 12389\n",
      "XE: 9992\n",
      "YV: 9219\n",
      "OH: 6462\n",
      "OO: 12436\n",
      "UA: 10541\n",
      "US: 6582\n",
      "DL: 6813\n",
      "EV: 5026\n",
      "F9: 303\n",
      "FL: 2236\n",
      "HA: 570\n",
      "MQ: 18331\n",
      "NW: 2906\n",
      "9E: 7100\n",
      "AA: 17440\n",
      "AQ: 42\n",
      "AS: 2139\n",
      "B6: 3205\n",
      "CO: 3702\n",
      "MQ 18331\n"
     ]
    }
   ],
   "source": [
    "# #4\n",
    "\n",
    "cancelled_flights = flights_df.loc[flights_df['Cancelled'] == 1]\n",
    "\n",
    "flights_df.shape, cancelled_flights.shape\n",
    "\n",
    "cancelled_numbers = []\n",
    "for carrier in carriers:\n",
    "    carrier_cancelled_flights = cancelled_flights.loc[cancelled_flights['UniqueCarrier']==carrier].shape[0]\n",
    "    print(carrier + ': ' + str(carrier_cancelled_flights))\n",
    "    cancelled_numbers.append(carrier_cancelled_flights)\n",
    "    \n",
    "print(carriers[np.array(cancelled_numbers).argmax()], np.array(cancelled_numbers).max())\n",
    "    \n",
    "    \n",
    "# Answer: MQ 18331"
   ]
  },
  {
   "cell_type": "code",
   "execution_count": 75,
   "metadata": {},
   "outputs": [],
   "source": [
    "flights_df['DepHour'] = flights_df['DepTime'] // 100\n",
    "flights_df['DepHour'].replace(to_replace=24, value=0, inplace=True)"
   ]
  },
  {
   "cell_type": "code",
   "execution_count": 78,
   "metadata": {},
   "outputs": [
    {
     "data": {
      "text/plain": [
       "7009728"
      ]
     },
     "execution_count": 78,
     "metadata": {},
     "output_type": "execute_result"
    }
   ],
   "source": [
    "len(flights_df['DepHour'].tolist())"
   ]
  },
  {
   "cell_type": "code",
   "execution_count": 76,
   "metadata": {},
   "outputs": [
    {
     "data": {
      "text/plain": [
       "array([[<matplotlib.axes._subplots.AxesSubplot object at 0x7f94a7a30668>]],\n",
       "      dtype=object)"
      ]
     },
     "execution_count": 76,
     "metadata": {},
     "output_type": "execute_result"
    },
    {
     "data": {
      "image/png": "[encoded data removed]",
      "text/plain": [
       "<Figure size 432x288 with 1 Axes>"
      ]
     },
     "metadata": {
      "needs_background": "light"
     },
     "output_type": "display_data"
    },
    {
     "data": {
      "image/png": "[encoded data removed]",
      "text/plain": [
       "<Figure size 432x288 with 1 Axes>"
      ]
     },
     "metadata": {
      "needs_background": "light"
     },
     "output_type": "display_data"
    }
   ],
   "source": [
    "flights_df.groupby('DepHour').size().plot(kind='bar');\n",
    "flights_df.hist('DepHour', bins=24)"
   ]
  },
  {
   "cell_type": "code",
   "execution_count": 147,
   "metadata": {},
   "outputs": [
    {
     "name": "stdout",
     "output_type": "stream",
     "text": [
      "6873482 7009728\n",
      "DepHour\n",
      "0.0     0.002963\n",
      "1.0     0.000853\n",
      "2.0     0.000269\n",
      "3.0     0.000121\n",
      "4.0     0.000493\n",
      "5.0     0.021556\n",
      "6.0     0.064994\n",
      "7.0     0.063534\n",
      "8.0     0.065356\n",
      "9.0     0.063265\n",
      "10.0    0.062772\n",
      "11.0    0.064698\n",
      "12.0    0.061723\n",
      "13.0    0.063420\n",
      "14.0    0.060650\n",
      "15.0    0.059813\n",
      "16.0    0.063144\n",
      "17.0    0.062921\n",
      "18.0    0.058309\n",
      "19.0    0.056345\n",
      "20.0    0.041608\n",
      "21.0    0.037077\n",
      "22.0    0.017408\n",
      "23.0    0.006707\n",
      "dtype: float64 8\n"
     ]
    }
   ],
   "source": [
    "# #5\n",
    "\n",
    "flights_with_dephour = np.sum(flights_df.groupby('DepHour').size().values.tolist())\n",
    "print(flights_with_dephour, flights_df.shape[0])\n",
    "print((flights_df.groupby('DepHour').size() / flights_with_dephour), (flights_df.groupby('DepHour').size() / flights_with_dephour).values.argmax())\n",
    "# departs_percentage = flights_df.groupby('DepHour').size()\n",
    "\n",
    "# Answer: 8 am"
   ]
  },
  {
   "cell_type": "code",
   "execution_count": 126,
   "metadata": {},
   "outputs": [
    {
     "name": "stdout",
     "output_type": "stream",
     "text": [
      "DepHour\n",
      "0.0     0.000344\n",
      "1.0     0.000682\n",
      "2.0     0.000540\n",
      "3.0     0.000000\n",
      "4.0     0.000295\n",
      "5.0     0.000162\n",
      "6.0     0.000179\n",
      "7.0     0.000190\n",
      "8.0     0.000176\n",
      "9.0     0.000129\n",
      "10.0    0.000132\n",
      "11.0    0.000133\n",
      "12.0    0.000125\n",
      "13.0    0.000108\n",
      "14.0    0.000137\n",
      "15.0    0.000178\n",
      "16.0    0.000168\n",
      "17.0    0.000169\n",
      "18.0    0.000165\n",
      "19.0    0.000209\n",
      "20.0    0.000178\n",
      "21.0    0.000322\n",
      "22.0    0.000476\n",
      "23.0    0.000521\n",
      "dtype: float64\n",
      "3\n"
     ]
    }
   ],
   "source": [
    "# #6\n",
    "\n",
    "cancels_percentage_per_hour = flights_df.loc[flights_df['Cancelled'] == 1].groupby('DepHour').size() / flights_df.groupby('DepHour').size()\n",
    "cancels_percentage_per_hour[3.0] = 0\n",
    "print(cancels_percentage_per_hour)\n",
    "print(cancels_percentage_per_hour.values.argmin())\n",
    "\n",
    "# Answer: 3 am\n",
    "# Answer for #7: Is there any hour that didn't have any cancelled flights at all? Yes - 3 am"
   ]
  },
  {
   "cell_type": "code",
   "execution_count": 127,
   "metadata": {},
   "outputs": [
    {
     "data": {
      "text/plain": [
       "(DepHour\n",
       " 0.0      20361\n",
       " 1.0       5857\n",
       " 2.0       1850\n",
       " 3.0        833\n",
       " 4.0       3389\n",
       " 5.0     148143\n",
       " 6.0     446657\n",
       " 7.0     436617\n",
       " 8.0     449145\n",
       " 9.0     434794\n",
       " 10.0    431403\n",
       " 11.0    444643\n",
       " 12.0    424196\n",
       " 13.0    435870\n",
       " 14.0    416818\n",
       " 15.0    411053\n",
       " 16.0    433944\n",
       " 17.0    432415\n",
       " 18.0    400718\n",
       " 19.0    387207\n",
       " 20.0    285940\n",
       " 21.0    254768\n",
       " 22.0    119594\n",
       " 23.0     46079\n",
       " dtype: int64, 8)"
      ]
     },
     "execution_count": 127,
     "metadata": {},
     "output_type": "execute_result"
    }
   ],
   "source": [
    "# #8\n",
    "\n",
    "flights_df.loc[flights_df['Cancelled'] == 0].groupby('DepHour').size(), flights_df.loc[flights_df['Cancelled'] == 0].groupby('DepHour').size().values.argmax()\n",
    "\n",
    "# Answer: the busiest hour (as excepted) 8 am"
   ]
  }
 ],
 "metadata": {
  "kernelspec": {
   "display_name": "Python 3",
   "language": "python",
   "name": "python3"
  },
  "language_info": {
   "codemirror_mode": {
    "name": "ipython",
    "version": 3
   },
   "file_extension": ".py",
   "mimetype": "text/x-python",
   "name": "python",
   "nbconvert_exporter": "python",
   "pygments_lexer": "ipython3",
   "version": "3.7.1"
  }
 },
 "nbformat": 4,
 "nbformat_minor": 2
}
